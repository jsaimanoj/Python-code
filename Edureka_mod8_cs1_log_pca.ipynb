{
 "cells": [
  {
   "cell_type": "code",
   "execution_count": 35,
   "metadata": {},
   "outputs": [],
   "source": [
    "import pandas as pd\n",
    "import numpy as np\n",
    "import os\n",
    "os.chdir('C:\\\\Users\\\\Manoj\\\\Desktop\\\\Edureka_Python')\n",
    "import matplotlib.pyplot as plt"
   ]
  },
  {
   "cell_type": "code",
   "execution_count": 26,
   "metadata": {},
   "outputs": [],
   "source": [
    "from sklearn.datasets import load_digits"
   ]
  },
  {
   "cell_type": "code",
   "execution_count": 27,
   "metadata": {},
   "outputs": [
    {
     "data": {
      "text/plain": [
       "{'data': array([[ 0.,  0.,  5., ...,  0.,  0.,  0.],\n",
       "        [ 0.,  0.,  0., ..., 10.,  0.,  0.],\n",
       "        [ 0.,  0.,  0., ..., 16.,  9.,  0.],\n",
       "        ...,\n",
       "        [ 0.,  0.,  1., ...,  6.,  0.,  0.],\n",
       "        [ 0.,  0.,  2., ..., 12.,  0.,  0.],\n",
       "        [ 0.,  0., 10., ..., 12.,  1.,  0.]]),\n",
       " 'target': array([0, 1, 2, ..., 8, 9, 8]),\n",
       " 'target_names': array([0, 1, 2, 3, 4, 5, 6, 7, 8, 9]),\n",
       " 'images': array([[[ 0.,  0.,  5., ...,  1.,  0.,  0.],\n",
       "         [ 0.,  0., 13., ..., 15.,  5.,  0.],\n",
       "         [ 0.,  3., 15., ..., 11.,  8.,  0.],\n",
       "         ...,\n",
       "         [ 0.,  4., 11., ..., 12.,  7.,  0.],\n",
       "         [ 0.,  2., 14., ..., 12.,  0.,  0.],\n",
       "         [ 0.,  0.,  6., ...,  0.,  0.,  0.]],\n",
       " \n",
       "        [[ 0.,  0.,  0., ...,  5.,  0.,  0.],\n",
       "         [ 0.,  0.,  0., ...,  9.,  0.,  0.],\n",
       "         [ 0.,  0.,  3., ...,  6.,  0.,  0.],\n",
       "         ...,\n",
       "         [ 0.,  0.,  1., ...,  6.,  0.,  0.],\n",
       "         [ 0.,  0.,  1., ...,  6.,  0.,  0.],\n",
       "         [ 0.,  0.,  0., ..., 10.,  0.,  0.]],\n",
       " \n",
       "        [[ 0.,  0.,  0., ..., 12.,  0.,  0.],\n",
       "         [ 0.,  0.,  3., ..., 14.,  0.,  0.],\n",
       "         [ 0.,  0.,  8., ..., 16.,  0.,  0.],\n",
       "         ...,\n",
       "         [ 0.,  9., 16., ...,  0.,  0.,  0.],\n",
       "         [ 0.,  3., 13., ..., 11.,  5.,  0.],\n",
       "         [ 0.,  0.,  0., ..., 16.,  9.,  0.]],\n",
       " \n",
       "        ...,\n",
       " \n",
       "        [[ 0.,  0.,  1., ...,  1.,  0.,  0.],\n",
       "         [ 0.,  0., 13., ...,  2.,  1.,  0.],\n",
       "         [ 0.,  0., 16., ..., 16.,  5.,  0.],\n",
       "         ...,\n",
       "         [ 0.,  0., 16., ..., 15.,  0.,  0.],\n",
       "         [ 0.,  0., 15., ..., 16.,  0.,  0.],\n",
       "         [ 0.,  0.,  2., ...,  6.,  0.,  0.]],\n",
       " \n",
       "        [[ 0.,  0.,  2., ...,  0.,  0.,  0.],\n",
       "         [ 0.,  0., 14., ..., 15.,  1.,  0.],\n",
       "         [ 0.,  4., 16., ..., 16.,  7.,  0.],\n",
       "         ...,\n",
       "         [ 0.,  0.,  0., ..., 16.,  2.,  0.],\n",
       "         [ 0.,  0.,  4., ..., 16.,  2.,  0.],\n",
       "         [ 0.,  0.,  5., ..., 12.,  0.,  0.]],\n",
       " \n",
       "        [[ 0.,  0., 10., ...,  1.,  0.,  0.],\n",
       "         [ 0.,  2., 16., ...,  1.,  0.,  0.],\n",
       "         [ 0.,  0., 15., ..., 15.,  0.,  0.],\n",
       "         ...,\n",
       "         [ 0.,  4., 16., ..., 16.,  6.,  0.],\n",
       "         [ 0.,  8., 16., ..., 16.,  8.,  0.],\n",
       "         [ 0.,  1.,  8., ..., 12.,  1.,  0.]]]),\n",
       " 'DESCR': \".. _digits_dataset:\\n\\nOptical recognition of handwritten digits dataset\\n--------------------------------------------------\\n\\n**Data Set Characteristics:**\\n\\n    :Number of Instances: 5620\\n    :Number of Attributes: 64\\n    :Attribute Information: 8x8 image of integer pixels in the range 0..16.\\n    :Missing Attribute Values: None\\n    :Creator: E. Alpaydin (alpaydin '@' boun.edu.tr)\\n    :Date: July; 1998\\n\\nThis is a copy of the test set of the UCI ML hand-written digits datasets\\nhttp://archive.ics.uci.edu/ml/datasets/Optical+Recognition+of+Handwritten+Digits\\n\\nThe data set contains images of hand-written digits: 10 classes where\\neach class refers to a digit.\\n\\nPreprocessing programs made available by NIST were used to extract\\nnormalized bitmaps of handwritten digits from a preprinted form. From a\\ntotal of 43 people, 30 contributed to the training set and different 13\\nto the test set. 32x32 bitmaps are divided into nonoverlapping blocks of\\n4x4 and the number of on pixels are counted in each block. This generates\\nan input matrix of 8x8 where each element is an integer in the range\\n0..16. This reduces dimensionality and gives invariance to small\\ndistortions.\\n\\nFor info on NIST preprocessing routines, see M. D. Garris, J. L. Blue, G.\\nT. Candela, D. L. Dimmick, J. Geist, P. J. Grother, S. A. Janet, and C.\\nL. Wilson, NIST Form-Based Handprint Recognition System, NISTIR 5469,\\n1994.\\n\\n.. topic:: References\\n\\n  - C. Kaynak (1995) Methods of Combining Multiple Classifiers and Their\\n    Applications to Handwritten Digit Recognition, MSc Thesis, Institute of\\n    Graduate Studies in Science and Engineering, Bogazici University.\\n  - E. Alpaydin, C. Kaynak (1998) Cascading Classifiers, Kybernetika.\\n  - Ken Tang and Ponnuthurai N. Suganthan and Xi Yao and A. Kai Qin.\\n    Linear dimensionalityreduction using relevance weighted LDA. School of\\n    Electrical and Electronic Engineering Nanyang Technological University.\\n    2005.\\n  - Claudio Gentile. A New Approximate Maximal Margin Classification\\n    Algorithm. NIPS. 2000.\"}"
      ]
     },
     "execution_count": 27,
     "metadata": {},
     "output_type": "execute_result"
    }
   ],
   "source": [
    "data = load_digits()\n",
    "data"
   ]
  },
  {
   "cell_type": "code",
   "execution_count": 28,
   "metadata": {},
   "outputs": [],
   "source": [
    "x = data.data\n",
    "y = data.target"
   ]
  },
  {
   "cell_type": "code",
   "execution_count": 29,
   "metadata": {},
   "outputs": [],
   "source": [
    "from sklearn.model_selection import train_test_split\n",
    "x_train, x_test, y_train , y_test = train_test_split(x, y, test_size=0.2)"
   ]
  },
  {
   "cell_type": "code",
   "execution_count": 30,
   "metadata": {},
   "outputs": [
    {
     "name": "stderr",
     "output_type": "stream",
     "text": [
      "C:\\Users\\Manoj\\Anaconda3\\lib\\site-packages\\sklearn\\linear_model\\logistic.py:433: FutureWarning: Default solver will be changed to 'lbfgs' in 0.22. Specify a solver to silence this warning.\n",
      "  FutureWarning)\n",
      "C:\\Users\\Manoj\\Anaconda3\\lib\\site-packages\\sklearn\\linear_model\\logistic.py:460: FutureWarning: Default multi_class will be changed to 'auto' in 0.22. Specify the multi_class option to silence this warning.\n",
      "  \"this warning.\", FutureWarning)\n"
     ]
    },
    {
     "data": {
      "text/plain": [
       "LogisticRegression(C=1.0, class_weight=None, dual=False, fit_intercept=True,\n",
       "          intercept_scaling=1, max_iter=100, multi_class='warn',\n",
       "          n_jobs=None, penalty='l2', random_state=None, solver='warn',\n",
       "          tol=0.0001, verbose=0, warm_start=False)"
      ]
     },
     "execution_count": 30,
     "metadata": {},
     "output_type": "execute_result"
    }
   ],
   "source": [
    "from sklearn.linear_model import LogisticRegression\n",
    "logmodel = LogisticRegression()\n",
    "logmodel.fit(x_train, y_train)"
   ]
  },
  {
   "cell_type": "code",
   "execution_count": 31,
   "metadata": {},
   "outputs": [],
   "source": [
    "y_pred = logmodel.predict(x_test)"
   ]
  },
  {
   "cell_type": "code",
   "execution_count": 32,
   "metadata": {},
   "outputs": [
    {
     "data": {
      "text/plain": [
       "array([[32,  0,  0,  0,  0,  0,  0,  0,  0,  0],\n",
       "       [ 0, 41,  0,  0,  0,  0,  0,  0,  0,  0],\n",
       "       [ 0,  0, 38,  1,  0,  0,  0,  0,  0,  0],\n",
       "       [ 0,  0,  0, 33,  0,  0,  0,  1,  0,  2],\n",
       "       [ 0,  0,  0,  0, 32,  0,  0,  0,  0,  0],\n",
       "       [ 0,  0,  0,  0,  0, 38,  0,  0,  1,  0],\n",
       "       [ 0,  0,  1,  0,  0,  0, 37,  0,  0,  0],\n",
       "       [ 0,  0,  0,  0,  0,  0,  0, 34,  0,  0],\n",
       "       [ 0,  3,  0,  0,  0,  0,  0,  0, 35,  0],\n",
       "       [ 1,  0,  0,  0,  0,  0,  0,  0,  0, 30]], dtype=int64)"
      ]
     },
     "execution_count": 32,
     "metadata": {},
     "output_type": "execute_result"
    }
   ],
   "source": [
    "from sklearn.metrics import confusion_matrix\n",
    "confusion_matrix(y_test,y_pred)"
   ]
  },
  {
   "cell_type": "code",
   "execution_count": 40,
   "metadata": {},
   "outputs": [
    {
     "data": {
      "text/plain": [
       "array([ 0.,  0.,  5., 13.,  9.,  1.,  0.,  0.,  0.,  0., 13., 15., 10.,\n",
       "       15.,  5.,  0.,  0.,  3., 15.,  2.,  0., 11.,  8.,  0.,  0.,  4.,\n",
       "       12.,  0.,  0.,  8.,  8.,  0.,  0.,  5.,  8.,  0.,  0.,  9.,  8.,\n",
       "        0.,  0.,  4., 11.,  0.,  1., 12.,  7.,  0.,  0.,  2., 14.,  5.,\n",
       "       10., 12.,  0.,  0.,  0.,  0.,  6., 13., 10.,  0.,  0.,  0.])"
      ]
     },
     "execution_count": 40,
     "metadata": {},
     "output_type": "execute_result"
    }
   ],
   "source": [
    "x[0]"
   ]
  },
  {
   "cell_type": "code",
   "execution_count": 41,
   "metadata": {},
   "outputs": [
    {
     "data": {
      "text/plain": [
       "array([[ 0.,  0.,  5., 13.,  9.,  1.,  0.,  0.],\n",
       "       [ 0.,  0., 13., 15., 10., 15.,  5.,  0.],\n",
       "       [ 0.,  3., 15.,  2.,  0., 11.,  8.,  0.],\n",
       "       [ 0.,  4., 12.,  0.,  0.,  8.,  8.,  0.],\n",
       "       [ 0.,  5.,  8.,  0.,  0.,  9.,  8.,  0.],\n",
       "       [ 0.,  4., 11.,  0.,  1., 12.,  7.,  0.],\n",
       "       [ 0.,  2., 14.,  5., 10., 12.,  0.,  0.],\n",
       "       [ 0.,  0.,  6., 13., 10.,  0.,  0.,  0.]])"
      ]
     },
     "execution_count": 41,
     "metadata": {},
     "output_type": "execute_result"
    }
   ],
   "source": [
    "data.images[0]"
   ]
  },
  {
   "cell_type": "code",
   "execution_count": 56,
   "metadata": {},
   "outputs": [
    {
     "data": {
      "text/plain": [
       "<Figure size 432x288 with 0 Axes>"
      ]
     },
     "metadata": {},
     "output_type": "display_data"
    },
    {
     "data": {
      "image/png": "[encoded data removed]",
      "text/plain": [
       "<Figure size 288x288 with 1 Axes>"
      ]
     },
     "metadata": {
      "needs_background": "light"
     },
     "output_type": "display_data"
    }
   ],
   "source": [
    "\n",
    "plt.gray()\n",
    "plt.matshow(data.images[434])\n",
    "plt.show()"
   ]
  },
  {
   "cell_type": "code",
   "execution_count": 57,
   "metadata": {},
   "outputs": [
    {
     "data": {
      "text/plain": [
       "(1797, 64)"
      ]
     },
     "execution_count": 57,
     "metadata": {},
     "output_type": "execute_result"
    }
   ],
   "source": [
    "x.datax"
   ]
  },
  {
   "cell_type": "code",
   "execution_count": 58,
   "metadata": {},
   "outputs": [],
   "source": [
    "from sklearn.preprocessing import StandardScaler\n",
    "from sklearn.decomposition import PCA"
   ]
  },
  {
   "cell_type": "code",
   "execution_count": 59,
   "metadata": {},
   "outputs": [],
   "source": [
    " X = StandardScaler().fit_transform(x.data)"
   ]
  },
  {
   "cell_type": "code",
   "execution_count": 93,
   "metadata": {},
   "outputs": [],
   "source": [
    "pca = PCA(n_components=9, whiten=True)\n",
    "\n",
    "# Conduct PCA\n",
    "x_train_pca = pca.fit_transform(x_train)\n",
    "x_test_pca = pca.fit_transform(x_test)"
   ]
  },
  {
   "cell_type": "code",
   "execution_count": 94,
   "metadata": {},
   "outputs": [
    {
     "data": {
      "text/plain": [
       "(1437, 9)"
      ]
     },
     "execution_count": 94,
     "metadata": {},
     "output_type": "execute_result"
    }
   ],
   "source": [
    "x_train_pca.shape"
   ]
  },
  {
   "cell_type": "code",
   "execution_count": 95,
   "metadata": {},
   "outputs": [],
   "source": [
    "var_expl = pca.explained_variance_ratio_"
   ]
  },
  {
   "cell_type": "code",
   "execution_count": 88,
   "metadata": {},
   "outputs": [
    {
     "data": {
      "text/plain": [
       "array([1.35250678e-01, 1.33074772e-01, 1.29606360e-01, 9.26333007e-02,\n",
       "       6.13173930e-02, 4.95583503e-02, 4.35991707e-02, 3.72563936e-02,\n",
       "       2.95745387e-02, 2.76494613e-02, 2.54970879e-02, 2.24136375e-02,\n",
       "       1.87291229e-02, 1.77549571e-02, 1.64955042e-02, 1.54432597e-02,\n",
       "       1.33566837e-02, 1.21766306e-02, 1.02063468e-02, 9.78857248e-03,\n",
       "       8.98963896e-03, 7.34664073e-03, 7.00274552e-03, 6.43976088e-03,\n",
       "       6.15450825e-03, 5.77706513e-03, 5.26841502e-03, 4.96205685e-03,\n",
       "       4.68769117e-03, 4.31305079e-03, 3.67915691e-03, 3.40397909e-03,\n",
       "       3.08837131e-03, 2.88929999e-03, 2.74520747e-03, 2.44812238e-03,\n",
       "       2.27831019e-03, 2.14923606e-03, 2.06079153e-03, 1.82608432e-03,\n",
       "       1.78088151e-03, 1.57711351e-03, 1.46730199e-03, 1.31345721e-03,\n",
       "       1.18703565e-03, 1.00089597e-03, 8.25183487e-04, 5.63988722e-04,\n",
       "       5.22631748e-04, 4.82249482e-04, 1.68296235e-04, 7.80371515e-05,\n",
       "       6.56949184e-05, 5.88691478e-05, 1.29003737e-05, 1.82873437e-06,\n",
       "       1.28063133e-06, 2.01143135e-33, 7.25220318e-34, 7.25220318e-34,\n",
       "       7.25220318e-34, 7.25220318e-34, 7.25220318e-34, 6.19648340e-34])"
      ]
     },
     "execution_count": 88,
     "metadata": {},
     "output_type": "execute_result"
    }
   ],
   "source": [
    "var_expl"
   ]
  },
  {
   "cell_type": "code",
   "execution_count": 100,
   "metadata": {},
   "outputs": [
    {
     "name": "stderr",
     "output_type": "stream",
     "text": [
      "C:\\Users\\Manoj\\Anaconda3\\lib\\site-packages\\sklearn\\linear_model\\logistic.py:433: FutureWarning: Default solver will be changed to 'lbfgs' in 0.22. Specify a solver to silence this warning.\n",
      "  FutureWarning)\n",
      "C:\\Users\\Manoj\\Anaconda3\\lib\\site-packages\\sklearn\\linear_model\\logistic.py:460: FutureWarning: Default multi_class will be changed to 'auto' in 0.22. Specify the multi_class option to silence this warning.\n",
      "  \"this warning.\", FutureWarning)\n"
     ]
    },
    {
     "data": {
      "text/plain": [
       "LogisticRegression(C=1.0, class_weight=None, dual=False, fit_intercept=True,\n",
       "          intercept_scaling=1, max_iter=100, multi_class='warn',\n",
       "          n_jobs=None, penalty='l2', random_state=None, solver='warn',\n",
       "          tol=0.0001, verbose=0, warm_start=False)"
      ]
     },
     "execution_count": 100,
     "metadata": {},
     "output_type": "execute_result"
    }
   ],
   "source": [
    "logmodel.fit(x_train_pca, y_train)"
   ]
  },
  {
   "cell_type": "code",
   "execution_count": 101,
   "metadata": {},
   "outputs": [],
   "source": [
    "y_pred_pc = logmodel.predict(x_test_pca)"
   ]
  },
  {
   "cell_type": "code",
   "execution_count": 102,
   "metadata": {},
   "outputs": [
    {
     "data": {
      "text/plain": [
       "array([[27,  0,  0,  3,  0,  0,  0,  0,  1,  1],\n",
       "       [ 0, 25,  2,  2,  9,  0,  1,  0,  2,  0],\n",
       "       [ 2,  0, 29,  8,  0,  0,  0,  0,  0,  0],\n",
       "       [ 7,  0,  1,  4,  1,  0,  7,  0,  0, 16],\n",
       "       [ 0,  5,  0,  0, 14,  0,  0, 13,  0,  0],\n",
       "       [ 0,  0,  0,  2,  0, 36,  0,  0,  0,  1],\n",
       "       [ 0,  3,  0, 22,  0,  0,  0,  4,  1,  8],\n",
       "       [ 0,  0,  2,  0, 10,  0, 19,  2,  1,  0],\n",
       "       [ 0,  5,  2,  2,  0,  2,  4,  0, 22,  1],\n",
       "       [12,  0,  0,  2,  5,  1,  5,  0,  3,  3]], dtype=int64)"
      ]
     },
     "execution_count": 102,
     "metadata": {},
     "output_type": "execute_result"
    }
   ],
   "source": [
    "confusion_matrix(y_test,y_pred_pc)"
   ]
  },
  {
   "cell_type": "code",
   "execution_count": 108,
   "metadata": {},
   "outputs": [
    {
     "data": {
      "text/plain": [
       "array([3, 2, 3, 0, 9, 6, 5, 5, 0, 8, 1, 6, 5, 5, 7, 1, 7, 1, 4, 7, 2, 8,\n",
       "       3, 5, 6, 5, 3, 9, 0, 6, 9, 9, 0, 9, 3, 3, 9, 3, 9, 1, 6, 6, 1, 8,\n",
       "       6, 8, 5, 8, 8, 0, 6, 2, 2, 1, 3, 4, 8, 0, 1, 5, 6, 7, 6, 7, 3, 5,\n",
       "       2, 7, 8, 6, 1, 9, 3, 4, 8, 6, 7, 6, 2, 6, 8, 5, 3, 7, 2, 9, 8, 1,\n",
       "       0, 4, 9, 7, 8, 1, 8, 1, 2, 4, 1, 5, 8, 5, 9, 2, 2, 5, 0, 4, 0, 9,\n",
       "       1, 9, 2, 6, 4, 5, 1, 4, 7, 0, 5, 9, 8, 6, 6, 8, 3, 4, 9, 0, 7, 1,\n",
       "       3, 5, 9, 7, 4, 4, 8, 2, 0, 0, 5, 6, 0, 8, 1, 2, 8, 8, 6, 2, 2, 7,\n",
       "       5, 7, 7, 0, 7, 2, 8, 9, 0, 1, 3, 4, 2, 4, 1, 5, 5, 6, 7, 4, 9, 4,\n",
       "       7, 9, 9, 9, 2, 2, 1, 8, 9, 1, 1, 2, 1, 8, 3, 4, 7, 1, 1, 7, 8, 3,\n",
       "       0, 2, 5, 7, 4, 5, 6, 7, 0, 3, 7, 7, 1, 8, 5, 0, 9, 1, 4, 3, 7, 4,\n",
       "       7, 4, 5, 4, 8, 0, 5, 6, 6, 5, 1, 3, 8, 1, 6, 6, 0, 3, 6, 3, 2, 6,\n",
       "       4, 9, 3, 0, 8, 9, 5, 9, 4, 0, 9, 5, 1, 5, 6, 5, 3, 3, 9, 2, 7, 7,\n",
       "       1, 6, 6, 6, 3, 6, 0, 8, 4, 1, 1, 5, 5, 2, 3, 0, 2, 8, 4, 0, 1, 0,\n",
       "       1, 8, 3, 2, 1, 5, 9, 7, 2, 2, 3, 6, 4, 8, 1, 7, 4, 1, 3, 2, 0, 0,\n",
       "       6, 0, 2, 5, 2, 1, 1, 4, 1, 8, 8, 2, 4, 7, 7, 1, 6, 0, 7, 4, 9, 0,\n",
       "       3, 3, 1, 1, 8, 9, 3, 0, 2, 2, 2, 4, 5, 6, 8, 7, 5, 2, 3, 6, 9, 7,\n",
       "       3, 4, 2, 1, 2, 2, 5, 5])"
      ]
     },
     "execution_count": 108,
     "metadata": {},
     "output_type": "execute_result"
    }
   ],
   "source": [
    "y_pred"
   ]
  },
  {
   "cell_type": "code",
   "execution_count": 107,
   "metadata": {},
   "outputs": [
    {
     "data": {
      "text/plain": [
       "array([3, 2, 3, 0, 9, 6, 5, 5, 0, 8, 1, 6, 5, 5, 7, 8, 7, 1, 4, 7, 2, 8,\n",
       "       3, 5, 6, 5, 3, 9, 0, 6, 9, 9, 0, 9, 3, 3, 9, 3, 9, 1, 6, 6, 1, 8,\n",
       "       6, 8, 5, 8, 8, 0, 6, 2, 2, 1, 3, 4, 8, 0, 1, 5, 6, 3, 6, 7, 3, 5,\n",
       "       2, 7, 5, 6, 1, 9, 3, 4, 8, 6, 7, 6, 2, 6, 8, 5, 3, 7, 2, 9, 8, 1,\n",
       "       0, 4, 9, 7, 8, 1, 8, 1, 2, 4, 1, 5, 8, 5, 9, 2, 2, 5, 0, 4, 0, 9,\n",
       "       1, 3, 2, 6, 4, 5, 1, 4, 7, 0, 5, 9, 8, 6, 6, 8, 3, 4, 9, 0, 7, 1,\n",
       "       3, 5, 9, 7, 4, 4, 8, 2, 0, 0, 5, 6, 0, 8, 1, 2, 8, 8, 6, 2, 2, 7,\n",
       "       5, 7, 7, 0, 7, 2, 8, 9, 0, 1, 3, 4, 2, 4, 1, 5, 5, 6, 7, 4, 9, 4,\n",
       "       7, 9, 9, 9, 2, 2, 1, 8, 9, 1, 1, 2, 1, 8, 3, 4, 7, 1, 1, 7, 8, 3,\n",
       "       0, 2, 5, 7, 4, 5, 6, 7, 0, 3, 7, 7, 1, 8, 5, 0, 9, 1, 4, 3, 7, 4,\n",
       "       7, 4, 5, 4, 8, 0, 5, 6, 6, 5, 1, 3, 8, 8, 6, 6, 0, 3, 6, 3, 2, 6,\n",
       "       4, 9, 3, 9, 8, 9, 5, 9, 4, 0, 3, 5, 1, 5, 6, 5, 3, 3, 9, 2, 7, 7,\n",
       "       1, 6, 6, 6, 3, 6, 0, 8, 4, 1, 8, 5, 5, 2, 3, 0, 2, 8, 4, 0, 1, 0,\n",
       "       1, 8, 3, 2, 1, 5, 9, 7, 2, 6, 3, 6, 4, 8, 1, 7, 4, 1, 3, 2, 0, 0,\n",
       "       6, 0, 2, 5, 2, 1, 1, 4, 1, 8, 8, 2, 4, 7, 7, 1, 6, 0, 7, 4, 9, 0,\n",
       "       3, 3, 1, 1, 8, 9, 2, 0, 2, 2, 2, 4, 5, 6, 8, 7, 5, 2, 3, 6, 9, 7,\n",
       "       3, 4, 2, 1, 2, 2, 5, 5])"
      ]
     },
     "execution_count": 107,
     "metadata": {},
     "output_type": "execute_result"
    }
   ],
   "source": [
    "y_test"
   ]
  },
  {
   "cell_type": "code",
   "execution_count": 114,
   "metadata": {},
   "outputs": [
    {
     "data": {
      "text/plain": [
       "array([[ 0.,  0., 10., 14.,  8.,  1.,  0.,  0.],\n",
       "       [ 0.,  2., 16., 14.,  6.,  1.,  0.,  0.],\n",
       "       [ 0.,  0., 15., 15.,  8., 15.,  0.,  0.],\n",
       "       [ 0.,  0.,  5., 16., 16., 10.,  0.,  0.],\n",
       "       [ 0.,  0., 12., 15., 15., 12.,  0.,  0.],\n",
       "       [ 0.,  4., 16.,  6.,  4., 16.,  6.,  0.],\n",
       "       [ 0.,  8., 16., 10.,  8., 16.,  8.,  0.],\n",
       "       [ 0.,  1.,  8., 12., 14., 12.,  1.,  0.]])"
      ]
     },
     "execution_count": 114,
     "metadata": {},
     "output_type": "execute_result"
    }
   ],
   "source": []
  },
  {
   "cell_type": "code",
   "execution_count": null,
   "metadata": {},
   "outputs": [],
   "source": []
  }
 ],
 "metadata": {
  "kernelspec": {
   "display_name": "Python 3",
   "language": "python",
   "name": "python3"
  },
  "language_info": {
   "codemirror_mode": {
    "name": "ipython",
    "version": 3
   },
   "file_extension": ".py",
   "mimetype": "text/x-python",
   "name": "python",
   "nbconvert_exporter": "python",
   "pygments_lexer": "ipython3",
   "version": "3.7.1"
  }
 },
 "nbformat": 4,
 "nbformat_minor": 2
}
